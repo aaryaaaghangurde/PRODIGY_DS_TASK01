{
 "cells": [
  {
   "cell_type": "markdown",
   "id": "eeba0d78",
   "metadata": {},
   "source": [
    "## task 1"
   ]
  },
  {
   "cell_type": "markdown",
   "id": "a6e056f4",
   "metadata": {},
   "source": [
    "## Importing necessary libraries\n"
   ]
  },
  {
   "cell_type": "code",
   "execution_count": 1,
   "id": "091a5fb1",
   "metadata": {},
   "outputs": [],
   "source": [
    "import pandas as pd\n",
    "import numpy as np\n",
    "import matplotlib.pyplot as plt\n",
    "import seaborn as sns"
   ]
  },
  {
   "cell_type": "markdown",
   "id": "0adf495e",
   "metadata": {},
   "source": [
    "## Reading CSV file"
   ]
  },
  {
   "cell_type": "code",
   "execution_count": 2,
   "id": "238c23ed",
   "metadata": {},
   "outputs": [],
   "source": [
    "df=pd.read_csv(\"worldpopulationdata.csv\")"
   ]
  },
  {
   "cell_type": "markdown",
   "id": "11666456",
   "metadata": {},
   "source": [
    "## Checking top 5 rows data"
   ]
  },
  {
   "cell_type": "code",
   "execution_count": 3,
   "id": "6ccaebca",
   "metadata": {},
   "outputs": [
    {
     "data": {
      "text/html": [
       "<div>\n",
       "<style scoped>\n",
       "    .dataframe tbody tr th:only-of-type {\n",
       "        vertical-align: middle;\n",
       "    }\n",
       "\n",
       "    .dataframe tbody tr th {\n",
       "        vertical-align: top;\n",
       "    }\n",
       "\n",
       "    .dataframe thead th {\n",
       "        text-align: right;\n",
       "    }\n",
       "</style>\n",
       "<table border=\"1\" class=\"dataframe\">\n",
       "  <thead>\n",
       "    <tr style=\"text-align: right;\">\n",
       "      <th></th>\n",
       "      <th>Series Name</th>\n",
       "      <th>Series Code</th>\n",
       "      <th>Country Name</th>\n",
       "      <th>Country Code</th>\n",
       "      <th>2022</th>\n",
       "      <th>2021</th>\n",
       "      <th>2020</th>\n",
       "      <th>2019</th>\n",
       "      <th>2018</th>\n",
       "      <th>2017</th>\n",
       "      <th>...</th>\n",
       "      <th>2010</th>\n",
       "      <th>2009</th>\n",
       "      <th>2008</th>\n",
       "      <th>2007</th>\n",
       "      <th>2006</th>\n",
       "      <th>2005</th>\n",
       "      <th>2004</th>\n",
       "      <th>2003</th>\n",
       "      <th>2002</th>\n",
       "      <th>2001</th>\n",
       "    </tr>\n",
       "  </thead>\n",
       "  <tbody>\n",
       "    <tr>\n",
       "      <th>0</th>\n",
       "      <td>Population, total</td>\n",
       "      <td>SP.POP.TOTL</td>\n",
       "      <td>Afghanistan</td>\n",
       "      <td>AFG</td>\n",
       "      <td>41128771.0</td>\n",
       "      <td>40099462.0</td>\n",
       "      <td>38972230.0</td>\n",
       "      <td>37769499.0</td>\n",
       "      <td>36686784.0</td>\n",
       "      <td>35643418.0</td>\n",
       "      <td>...</td>\n",
       "      <td>28189672.0</td>\n",
       "      <td>27385307.0</td>\n",
       "      <td>26427199.0</td>\n",
       "      <td>25903301.0</td>\n",
       "      <td>25442944.0</td>\n",
       "      <td>24411191.0</td>\n",
       "      <td>23553551.0</td>\n",
       "      <td>22645130.0</td>\n",
       "      <td>21000256.0</td>\n",
       "      <td>19688632.0</td>\n",
       "    </tr>\n",
       "    <tr>\n",
       "      <th>1</th>\n",
       "      <td>Population, total</td>\n",
       "      <td>SP.POP.TOTL</td>\n",
       "      <td>Albania</td>\n",
       "      <td>ALB</td>\n",
       "      <td>2775634.0</td>\n",
       "      <td>2811666.0</td>\n",
       "      <td>2837849.0</td>\n",
       "      <td>2854191.0</td>\n",
       "      <td>2866376.0</td>\n",
       "      <td>2873457.0</td>\n",
       "      <td>...</td>\n",
       "      <td>2913021.0</td>\n",
       "      <td>2927519.0</td>\n",
       "      <td>2947314.0</td>\n",
       "      <td>2970017.0</td>\n",
       "      <td>2992547.0</td>\n",
       "      <td>3011487.0</td>\n",
       "      <td>3026939.0</td>\n",
       "      <td>3039616.0</td>\n",
       "      <td>3051010.0</td>\n",
       "      <td>3060173.0</td>\n",
       "    </tr>\n",
       "    <tr>\n",
       "      <th>2</th>\n",
       "      <td>Population, total</td>\n",
       "      <td>SP.POP.TOTL</td>\n",
       "      <td>Algeria</td>\n",
       "      <td>DZA</td>\n",
       "      <td>44903225.0</td>\n",
       "      <td>44177969.0</td>\n",
       "      <td>43451666.0</td>\n",
       "      <td>42705368.0</td>\n",
       "      <td>41927007.0</td>\n",
       "      <td>41136546.0</td>\n",
       "      <td>...</td>\n",
       "      <td>35856344.0</td>\n",
       "      <td>35196037.0</td>\n",
       "      <td>34569592.0</td>\n",
       "      <td>33983827.0</td>\n",
       "      <td>33435080.0</td>\n",
       "      <td>32956690.0</td>\n",
       "      <td>32510186.0</td>\n",
       "      <td>32055883.0</td>\n",
       "      <td>31624696.0</td>\n",
       "      <td>31200985.0</td>\n",
       "    </tr>\n",
       "    <tr>\n",
       "      <th>3</th>\n",
       "      <td>Population, total</td>\n",
       "      <td>SP.POP.TOTL</td>\n",
       "      <td>American Samoa</td>\n",
       "      <td>ASM</td>\n",
       "      <td>44273.0</td>\n",
       "      <td>45035.0</td>\n",
       "      <td>46189.0</td>\n",
       "      <td>47321.0</td>\n",
       "      <td>48424.0</td>\n",
       "      <td>49463.0</td>\n",
       "      <td>...</td>\n",
       "      <td>54849.0</td>\n",
       "      <td>55366.0</td>\n",
       "      <td>55891.0</td>\n",
       "      <td>56383.0</td>\n",
       "      <td>56837.0</td>\n",
       "      <td>57254.0</td>\n",
       "      <td>57626.0</td>\n",
       "      <td>57941.0</td>\n",
       "      <td>58177.0</td>\n",
       "      <td>58324.0</td>\n",
       "    </tr>\n",
       "    <tr>\n",
       "      <th>4</th>\n",
       "      <td>Population, total</td>\n",
       "      <td>SP.POP.TOTL</td>\n",
       "      <td>Andorra</td>\n",
       "      <td>AND</td>\n",
       "      <td>79824.0</td>\n",
       "      <td>79034.0</td>\n",
       "      <td>77700.0</td>\n",
       "      <td>76343.0</td>\n",
       "      <td>75013.0</td>\n",
       "      <td>73837.0</td>\n",
       "      <td>...</td>\n",
       "      <td>71519.0</td>\n",
       "      <td>73852.0</td>\n",
       "      <td>76055.0</td>\n",
       "      <td>78168.0</td>\n",
       "      <td>80221.0</td>\n",
       "      <td>79826.0</td>\n",
       "      <td>76933.0</td>\n",
       "      <td>73907.0</td>\n",
       "      <td>70849.0</td>\n",
       "      <td>67820.0</td>\n",
       "    </tr>\n",
       "  </tbody>\n",
       "</table>\n",
       "<p>5 rows × 26 columns</p>\n",
       "</div>"
      ],
      "text/plain": [
       "         Series Name  Series Code    Country Name Country Code        2022  \\\n",
       "0  Population, total  SP.POP.TOTL     Afghanistan          AFG  41128771.0   \n",
       "1  Population, total  SP.POP.TOTL         Albania          ALB   2775634.0   \n",
       "2  Population, total  SP.POP.TOTL         Algeria          DZA  44903225.0   \n",
       "3  Population, total  SP.POP.TOTL  American Samoa          ASM     44273.0   \n",
       "4  Population, total  SP.POP.TOTL         Andorra          AND     79824.0   \n",
       "\n",
       "         2021        2020        2019        2018        2017  ...  \\\n",
       "0  40099462.0  38972230.0  37769499.0  36686784.0  35643418.0  ...   \n",
       "1   2811666.0   2837849.0   2854191.0   2866376.0   2873457.0  ...   \n",
       "2  44177969.0  43451666.0  42705368.0  41927007.0  41136546.0  ...   \n",
       "3     45035.0     46189.0     47321.0     48424.0     49463.0  ...   \n",
       "4     79034.0     77700.0     76343.0     75013.0     73837.0  ...   \n",
       "\n",
       "         2010        2009        2008        2007        2006        2005  \\\n",
       "0  28189672.0  27385307.0  26427199.0  25903301.0  25442944.0  24411191.0   \n",
       "1   2913021.0   2927519.0   2947314.0   2970017.0   2992547.0   3011487.0   \n",
       "2  35856344.0  35196037.0  34569592.0  33983827.0  33435080.0  32956690.0   \n",
       "3     54849.0     55366.0     55891.0     56383.0     56837.0     57254.0   \n",
       "4     71519.0     73852.0     76055.0     78168.0     80221.0     79826.0   \n",
       "\n",
       "         2004        2003        2002        2001  \n",
       "0  23553551.0  22645130.0  21000256.0  19688632.0  \n",
       "1   3026939.0   3039616.0   3051010.0   3060173.0  \n",
       "2  32510186.0  32055883.0  31624696.0  31200985.0  \n",
       "3     57626.0     57941.0     58177.0     58324.0  \n",
       "4     76933.0     73907.0     70849.0     67820.0  \n",
       "\n",
       "[5 rows x 26 columns]"
      ]
     },
     "execution_count": 3,
     "metadata": {},
     "output_type": "execute_result"
    }
   ],
   "source": [
    "df.head(5)"
   ]
  },
  {
   "cell_type": "markdown",
   "id": "441c2ba6",
   "metadata": {},
   "source": [
    " ## checking data from bottom"
   ]
  },
  {
   "cell_type": "code",
   "execution_count": 4,
   "id": "d636f6da",
   "metadata": {},
   "outputs": [
    {
     "data": {
      "text/html": [
       "<div>\n",
       "<style scoped>\n",
       "    .dataframe tbody tr th:only-of-type {\n",
       "        vertical-align: middle;\n",
       "    }\n",
       "\n",
       "    .dataframe tbody tr th {\n",
       "        vertical-align: top;\n",
       "    }\n",
       "\n",
       "    .dataframe thead th {\n",
       "        text-align: right;\n",
       "    }\n",
       "</style>\n",
       "<table border=\"1\" class=\"dataframe\">\n",
       "  <thead>\n",
       "    <tr style=\"text-align: right;\">\n",
       "      <th></th>\n",
       "      <th>Series Name</th>\n",
       "      <th>Series Code</th>\n",
       "      <th>Country Name</th>\n",
       "      <th>Country Code</th>\n",
       "      <th>2022</th>\n",
       "      <th>2021</th>\n",
       "      <th>2020</th>\n",
       "      <th>2019</th>\n",
       "      <th>2018</th>\n",
       "      <th>2017</th>\n",
       "      <th>...</th>\n",
       "      <th>2010</th>\n",
       "      <th>2009</th>\n",
       "      <th>2008</th>\n",
       "      <th>2007</th>\n",
       "      <th>2006</th>\n",
       "      <th>2005</th>\n",
       "      <th>2004</th>\n",
       "      <th>2003</th>\n",
       "      <th>2002</th>\n",
       "      <th>2001</th>\n",
       "    </tr>\n",
       "  </thead>\n",
       "  <tbody>\n",
       "    <tr>\n",
       "      <th>1080</th>\n",
       "      <td>Population, male (% of total population)</td>\n",
       "      <td>SP.POP.TOTL.MA.ZS</td>\n",
       "      <td>Virgin Islands (U.S.)</td>\n",
       "      <td>VIR</td>\n",
       "      <td>46.613382</td>\n",
       "      <td>46.764444</td>\n",
       "      <td>46.914637</td>\n",
       "      <td>47.057307</td>\n",
       "      <td>47.185912</td>\n",
       "      <td>47.314214</td>\n",
       "      <td>...</td>\n",
       "      <td>47.801059</td>\n",
       "      <td>47.834540</td>\n",
       "      <td>47.870063</td>\n",
       "      <td>47.877604</td>\n",
       "      <td>47.870702</td>\n",
       "      <td>47.852669</td>\n",
       "      <td>47.825150</td>\n",
       "      <td>47.789128</td>\n",
       "      <td>47.754932</td>\n",
       "      <td>47.725126</td>\n",
       "    </tr>\n",
       "    <tr>\n",
       "      <th>1081</th>\n",
       "      <td>Population, male (% of total population)</td>\n",
       "      <td>SP.POP.TOTL.MA.ZS</td>\n",
       "      <td>West Bank and Gaza</td>\n",
       "      <td>PSE</td>\n",
       "      <td>49.893678</td>\n",
       "      <td>49.877839</td>\n",
       "      <td>49.858957</td>\n",
       "      <td>49.835542</td>\n",
       "      <td>49.811374</td>\n",
       "      <td>49.785969</td>\n",
       "      <td>...</td>\n",
       "      <td>49.876336</td>\n",
       "      <td>49.898677</td>\n",
       "      <td>49.921445</td>\n",
       "      <td>49.947631</td>\n",
       "      <td>49.983323</td>\n",
       "      <td>50.028649</td>\n",
       "      <td>50.089953</td>\n",
       "      <td>50.167544</td>\n",
       "      <td>50.248196</td>\n",
       "      <td>50.321633</td>\n",
       "    </tr>\n",
       "    <tr>\n",
       "      <th>1082</th>\n",
       "      <td>Population, male (% of total population)</td>\n",
       "      <td>SP.POP.TOTL.MA.ZS</td>\n",
       "      <td>Yemen, Rep.</td>\n",
       "      <td>YEM</td>\n",
       "      <td>50.519031</td>\n",
       "      <td>50.538516</td>\n",
       "      <td>50.554317</td>\n",
       "      <td>50.571320</td>\n",
       "      <td>50.596614</td>\n",
       "      <td>50.616964</td>\n",
       "      <td>...</td>\n",
       "      <td>50.594170</td>\n",
       "      <td>50.582692</td>\n",
       "      <td>50.568876</td>\n",
       "      <td>50.553633</td>\n",
       "      <td>50.539012</td>\n",
       "      <td>50.522514</td>\n",
       "      <td>50.502720</td>\n",
       "      <td>50.481666</td>\n",
       "      <td>50.459941</td>\n",
       "      <td>50.437238</td>\n",
       "    </tr>\n",
       "    <tr>\n",
       "      <th>1083</th>\n",
       "      <td>Population, male (% of total population)</td>\n",
       "      <td>SP.POP.TOTL.MA.ZS</td>\n",
       "      <td>Zambia</td>\n",
       "      <td>ZMB</td>\n",
       "      <td>49.344602</td>\n",
       "      <td>49.344951</td>\n",
       "      <td>49.338301</td>\n",
       "      <td>49.326233</td>\n",
       "      <td>49.309087</td>\n",
       "      <td>49.288400</td>\n",
       "      <td>...</td>\n",
       "      <td>49.056379</td>\n",
       "      <td>48.981404</td>\n",
       "      <td>48.888443</td>\n",
       "      <td>48.784780</td>\n",
       "      <td>48.676944</td>\n",
       "      <td>48.571398</td>\n",
       "      <td>48.476900</td>\n",
       "      <td>48.393634</td>\n",
       "      <td>48.313646</td>\n",
       "      <td>48.229968</td>\n",
       "    </tr>\n",
       "    <tr>\n",
       "      <th>1084</th>\n",
       "      <td>Population, male (% of total population)</td>\n",
       "      <td>SP.POP.TOTL.MA.ZS</td>\n",
       "      <td>Zimbabwe</td>\n",
       "      <td>ZWE</td>\n",
       "      <td>47.214139</td>\n",
       "      <td>47.167153</td>\n",
       "      <td>47.130679</td>\n",
       "      <td>47.099796</td>\n",
       "      <td>47.076238</td>\n",
       "      <td>47.051613</td>\n",
       "      <td>...</td>\n",
       "      <td>46.995893</td>\n",
       "      <td>47.049546</td>\n",
       "      <td>47.106068</td>\n",
       "      <td>47.166435</td>\n",
       "      <td>47.190963</td>\n",
       "      <td>47.231433</td>\n",
       "      <td>47.324096</td>\n",
       "      <td>47.387633</td>\n",
       "      <td>47.428426</td>\n",
       "      <td>47.460469</td>\n",
       "    </tr>\n",
       "  </tbody>\n",
       "</table>\n",
       "<p>5 rows × 26 columns</p>\n",
       "</div>"
      ],
      "text/plain": [
       "                                   Series Name        Series Code  \\\n",
       "1080  Population, male (% of total population)  SP.POP.TOTL.MA.ZS   \n",
       "1081  Population, male (% of total population)  SP.POP.TOTL.MA.ZS   \n",
       "1082  Population, male (% of total population)  SP.POP.TOTL.MA.ZS   \n",
       "1083  Population, male (% of total population)  SP.POP.TOTL.MA.ZS   \n",
       "1084  Population, male (% of total population)  SP.POP.TOTL.MA.ZS   \n",
       "\n",
       "               Country Name Country Code       2022       2021       2020  \\\n",
       "1080  Virgin Islands (U.S.)          VIR  46.613382  46.764444  46.914637   \n",
       "1081     West Bank and Gaza          PSE  49.893678  49.877839  49.858957   \n",
       "1082            Yemen, Rep.          YEM  50.519031  50.538516  50.554317   \n",
       "1083                 Zambia          ZMB  49.344602  49.344951  49.338301   \n",
       "1084               Zimbabwe          ZWE  47.214139  47.167153  47.130679   \n",
       "\n",
       "           2019       2018       2017  ...       2010       2009       2008  \\\n",
       "1080  47.057307  47.185912  47.314214  ...  47.801059  47.834540  47.870063   \n",
       "1081  49.835542  49.811374  49.785969  ...  49.876336  49.898677  49.921445   \n",
       "1082  50.571320  50.596614  50.616964  ...  50.594170  50.582692  50.568876   \n",
       "1083  49.326233  49.309087  49.288400  ...  49.056379  48.981404  48.888443   \n",
       "1084  47.099796  47.076238  47.051613  ...  46.995893  47.049546  47.106068   \n",
       "\n",
       "           2007       2006       2005       2004       2003       2002  \\\n",
       "1080  47.877604  47.870702  47.852669  47.825150  47.789128  47.754932   \n",
       "1081  49.947631  49.983323  50.028649  50.089953  50.167544  50.248196   \n",
       "1082  50.553633  50.539012  50.522514  50.502720  50.481666  50.459941   \n",
       "1083  48.784780  48.676944  48.571398  48.476900  48.393634  48.313646   \n",
       "1084  47.166435  47.190963  47.231433  47.324096  47.387633  47.428426   \n",
       "\n",
       "           2001  \n",
       "1080  47.725126  \n",
       "1081  50.321633  \n",
       "1082  50.437238  \n",
       "1083  48.229968  \n",
       "1084  47.460469  \n",
       "\n",
       "[5 rows x 26 columns]"
      ]
     },
     "execution_count": 4,
     "metadata": {},
     "output_type": "execute_result"
    }
   ],
   "source": [
    "df.tail(5)"
   ]
  },
  {
   "cell_type": "markdown",
   "id": "1561b58d",
   "metadata": {},
   "source": [
    "## checking the columns of the dataset\n"
   ]
  },
  {
   "cell_type": "code",
   "execution_count": 5,
   "id": "a3e13d85",
   "metadata": {},
   "outputs": [
    {
     "data": {
      "text/plain": [
       "Index(['Series Name', 'Series Code', 'Country Name', 'Country Code', '2022',\n",
       "       '2021', '2020', '2019', '2018', '2017', '2016', '2015', '2014', '2013',\n",
       "       '2012', '2011', '2010', '2009', '2008', '2007', '2006', '2005', '2004',\n",
       "       '2003', '2002', '2001'],\n",
       "      dtype='object')"
      ]
     },
     "execution_count": 5,
     "metadata": {},
     "output_type": "execute_result"
    }
   ],
   "source": [
    "df.columns"
   ]
  },
  {
   "cell_type": "markdown",
   "id": "29306324",
   "metadata": {},
   "source": [
    "## some information about the dataset\n"
   ]
  },
  {
   "cell_type": "code",
   "execution_count": 6,
   "id": "03230464",
   "metadata": {},
   "outputs": [
    {
     "name": "stdout",
     "output_type": "stream",
     "text": [
      "<class 'pandas.core.frame.DataFrame'>\n",
      "RangeIndex: 1085 entries, 0 to 1084\n",
      "Data columns (total 26 columns):\n",
      " #   Column        Non-Null Count  Dtype  \n",
      "---  ------        --------------  -----  \n",
      " 0   Series Name   1085 non-null   object \n",
      " 1   Series Code   1085 non-null   object \n",
      " 2   Country Name  1085 non-null   object \n",
      " 3   Country Code  1085 non-null   object \n",
      " 4   2022          1085 non-null   float64\n",
      " 5   2021          1085 non-null   float64\n",
      " 6   2020          1085 non-null   float64\n",
      " 7   2019          1085 non-null   float64\n",
      " 8   2018          1085 non-null   float64\n",
      " 9   2017          1085 non-null   float64\n",
      " 10  2016          1085 non-null   float64\n",
      " 11  2015          1085 non-null   float64\n",
      " 12  2014          1085 non-null   float64\n",
      " 13  2013          1085 non-null   float64\n",
      " 14  2012          1085 non-null   float64\n",
      " 15  2011          1085 non-null   float64\n",
      " 16  2010          1085 non-null   float64\n",
      " 17  2009          1085 non-null   float64\n",
      " 18  2008          1085 non-null   float64\n",
      " 19  2007          1085 non-null   float64\n",
      " 20  2006          1085 non-null   float64\n",
      " 21  2005          1085 non-null   float64\n",
      " 22  2004          1085 non-null   float64\n",
      " 23  2003          1085 non-null   float64\n",
      " 24  2002          1085 non-null   float64\n",
      " 25  2001          1085 non-null   float64\n",
      "dtypes: float64(22), object(4)\n",
      "memory usage: 220.5+ KB\n"
     ]
    }
   ],
   "source": [
    "df.info()"
   ]
  },
  {
   "cell_type": "code",
   "execution_count": 7,
   "id": "9857f25b",
   "metadata": {},
   "outputs": [
    {
     "data": {
      "text/html": [
       "<div>\n",
       "<style scoped>\n",
       "    .dataframe tbody tr th:only-of-type {\n",
       "        vertical-align: middle;\n",
       "    }\n",
       "\n",
       "    .dataframe tbody tr th {\n",
       "        vertical-align: top;\n",
       "    }\n",
       "\n",
       "    .dataframe thead th {\n",
       "        text-align: right;\n",
       "    }\n",
       "</style>\n",
       "<table border=\"1\" class=\"dataframe\">\n",
       "  <thead>\n",
       "    <tr style=\"text-align: right;\">\n",
       "      <th></th>\n",
       "      <th>2022</th>\n",
       "      <th>2021</th>\n",
       "      <th>2020</th>\n",
       "      <th>2019</th>\n",
       "      <th>2018</th>\n",
       "      <th>2017</th>\n",
       "      <th>2016</th>\n",
       "      <th>2015</th>\n",
       "      <th>2014</th>\n",
       "      <th>2013</th>\n",
       "      <th>...</th>\n",
       "      <th>2010</th>\n",
       "      <th>2009</th>\n",
       "      <th>2008</th>\n",
       "      <th>2007</th>\n",
       "      <th>2006</th>\n",
       "      <th>2005</th>\n",
       "      <th>2004</th>\n",
       "      <th>2003</th>\n",
       "      <th>2002</th>\n",
       "      <th>2001</th>\n",
       "    </tr>\n",
       "  </thead>\n",
       "  <tbody>\n",
       "    <tr>\n",
       "      <th>count</th>\n",
       "      <td>1.085000e+03</td>\n",
       "      <td>1.085000e+03</td>\n",
       "      <td>1.085000e+03</td>\n",
       "      <td>1.085000e+03</td>\n",
       "      <td>1.085000e+03</td>\n",
       "      <td>1.085000e+03</td>\n",
       "      <td>1.085000e+03</td>\n",
       "      <td>1.085000e+03</td>\n",
       "      <td>1.085000e+03</td>\n",
       "      <td>1.085000e+03</td>\n",
       "      <td>...</td>\n",
       "      <td>1.085000e+03</td>\n",
       "      <td>1.085000e+03</td>\n",
       "      <td>1.085000e+03</td>\n",
       "      <td>1.085000e+03</td>\n",
       "      <td>1.085000e+03</td>\n",
       "      <td>1.085000e+03</td>\n",
       "      <td>1.085000e+03</td>\n",
       "      <td>1.085000e+03</td>\n",
       "      <td>1.085000e+03</td>\n",
       "      <td>1.085000e+03</td>\n",
       "    </tr>\n",
       "    <tr>\n",
       "      <th>mean</th>\n",
       "      <td>1.461378e+07</td>\n",
       "      <td>1.449711e+07</td>\n",
       "      <td>1.437307e+07</td>\n",
       "      <td>1.422876e+07</td>\n",
       "      <td>1.407966e+07</td>\n",
       "      <td>1.392568e+07</td>\n",
       "      <td>1.376711e+07</td>\n",
       "      <td>1.360705e+07</td>\n",
       "      <td>1.344625e+07</td>\n",
       "      <td>1.328368e+07</td>\n",
       "      <td>...</td>\n",
       "      <td>1.280537e+07</td>\n",
       "      <td>1.265031e+07</td>\n",
       "      <td>1.249535e+07</td>\n",
       "      <td>1.234099e+07</td>\n",
       "      <td>1.218858e+07</td>\n",
       "      <td>1.203685e+07</td>\n",
       "      <td>1.188626e+07</td>\n",
       "      <td>1.173626e+07</td>\n",
       "      <td>1.158653e+07</td>\n",
       "      <td>1.143598e+07</td>\n",
       "    </tr>\n",
       "    <tr>\n",
       "      <th>std</th>\n",
       "      <td>7.832944e+07</td>\n",
       "      <td>7.801505e+07</td>\n",
       "      <td>7.763257e+07</td>\n",
       "      <td>7.712985e+07</td>\n",
       "      <td>7.657562e+07</td>\n",
       "      <td>7.596457e+07</td>\n",
       "      <td>7.528760e+07</td>\n",
       "      <td>7.461740e+07</td>\n",
       "      <td>7.394894e+07</td>\n",
       "      <td>7.325356e+07</td>\n",
       "      <td>...</td>\n",
       "      <td>7.113128e+07</td>\n",
       "      <td>7.047509e+07</td>\n",
       "      <td>6.982016e+07</td>\n",
       "      <td>6.915934e+07</td>\n",
       "      <td>6.849229e+07</td>\n",
       "      <td>6.780708e+07</td>\n",
       "      <td>6.710041e+07</td>\n",
       "      <td>6.638386e+07</td>\n",
       "      <td>6.565651e+07</td>\n",
       "      <td>6.490862e+07</td>\n",
       "    </tr>\n",
       "    <tr>\n",
       "      <th>min</th>\n",
       "      <td>2.749000e+01</td>\n",
       "      <td>2.732503e+01</td>\n",
       "      <td>2.735104e+01</td>\n",
       "      <td>2.676295e+01</td>\n",
       "      <td>2.573928e+01</td>\n",
       "      <td>2.508394e+01</td>\n",
       "      <td>2.464721e+01</td>\n",
       "      <td>2.474106e+01</td>\n",
       "      <td>2.540718e+01</td>\n",
       "      <td>2.594943e+01</td>\n",
       "      <td>...</td>\n",
       "      <td>2.425072e+01</td>\n",
       "      <td>2.339422e+01</td>\n",
       "      <td>2.356750e+01</td>\n",
       "      <td>2.520779e+01</td>\n",
       "      <td>2.831990e+01</td>\n",
       "      <td>3.096426e+01</td>\n",
       "      <td>3.129133e+01</td>\n",
       "      <td>3.137472e+01</td>\n",
       "      <td>3.146521e+01</td>\n",
       "      <td>3.156689e+01</td>\n",
       "    </tr>\n",
       "    <tr>\n",
       "      <th>25%</th>\n",
       "      <td>5.034029e+01</td>\n",
       "      <td>5.035172e+01</td>\n",
       "      <td>5.034171e+01</td>\n",
       "      <td>5.033040e+01</td>\n",
       "      <td>5.033917e+01</td>\n",
       "      <td>5.033041e+01</td>\n",
       "      <td>5.033966e+01</td>\n",
       "      <td>5.033554e+01</td>\n",
       "      <td>5.032504e+01</td>\n",
       "      <td>5.033767e+01</td>\n",
       "      <td>...</td>\n",
       "      <td>5.034833e+01</td>\n",
       "      <td>5.036836e+01</td>\n",
       "      <td>5.037388e+01</td>\n",
       "      <td>5.036880e+01</td>\n",
       "      <td>5.038085e+01</td>\n",
       "      <td>5.037186e+01</td>\n",
       "      <td>5.036210e+01</td>\n",
       "      <td>5.039432e+01</td>\n",
       "      <td>5.039371e+01</td>\n",
       "      <td>5.038254e+01</td>\n",
       "    </tr>\n",
       "    <tr>\n",
       "      <th>50%</th>\n",
       "      <td>1.465500e+05</td>\n",
       "      <td>1.463660e+05</td>\n",
       "      <td>1.461650e+05</td>\n",
       "      <td>1.459570e+05</td>\n",
       "      <td>1.457520e+05</td>\n",
       "      <td>1.441350e+05</td>\n",
       "      <td>1.406060e+05</td>\n",
       "      <td>1.371850e+05</td>\n",
       "      <td>1.349620e+05</td>\n",
       "      <td>1.328960e+05</td>\n",
       "      <td>...</td>\n",
       "      <td>1.263090e+05</td>\n",
       "      <td>1.244660e+05</td>\n",
       "      <td>1.228070e+05</td>\n",
       "      <td>1.209490e+05</td>\n",
       "      <td>1.190890e+05</td>\n",
       "      <td>1.171330e+05</td>\n",
       "      <td>1.152950e+05</td>\n",
       "      <td>1.136960e+05</td>\n",
       "      <td>1.134500e+05</td>\n",
       "      <td>1.136410e+05</td>\n",
       "    </tr>\n",
       "    <tr>\n",
       "      <th>75%</th>\n",
       "      <td>5.903468e+06</td>\n",
       "      <td>5.856733e+06</td>\n",
       "      <td>5.831404e+06</td>\n",
       "      <td>5.814422e+06</td>\n",
       "      <td>5.774185e+06</td>\n",
       "      <td>5.686999e+06</td>\n",
       "      <td>5.629265e+06</td>\n",
       "      <td>5.544490e+06</td>\n",
       "      <td>5.524552e+06</td>\n",
       "      <td>5.480089e+06</td>\n",
       "      <td>...</td>\n",
       "      <td>5.267970e+06</td>\n",
       "      <td>5.187356e+06</td>\n",
       "      <td>5.100083e+06</td>\n",
       "      <td>5.062560e+06</td>\n",
       "      <td>5.007301e+06</td>\n",
       "      <td>4.989584e+06</td>\n",
       "      <td>4.813244e+06</td>\n",
       "      <td>4.758988e+06</td>\n",
       "      <td>4.698968e+06</td>\n",
       "      <td>4.535518e+06</td>\n",
       "    </tr>\n",
       "    <tr>\n",
       "      <th>max</th>\n",
       "      <td>1.417173e+09</td>\n",
       "      <td>1.412360e+09</td>\n",
       "      <td>1.411100e+09</td>\n",
       "      <td>1.407745e+09</td>\n",
       "      <td>1.402760e+09</td>\n",
       "      <td>1.396215e+09</td>\n",
       "      <td>1.387790e+09</td>\n",
       "      <td>1.379860e+09</td>\n",
       "      <td>1.371860e+09</td>\n",
       "      <td>1.363240e+09</td>\n",
       "      <td>...</td>\n",
       "      <td>1.337705e+09</td>\n",
       "      <td>1.331260e+09</td>\n",
       "      <td>1.324655e+09</td>\n",
       "      <td>1.317885e+09</td>\n",
       "      <td>1.311020e+09</td>\n",
       "      <td>1.303720e+09</td>\n",
       "      <td>1.296075e+09</td>\n",
       "      <td>1.288400e+09</td>\n",
       "      <td>1.280400e+09</td>\n",
       "      <td>1.271850e+09</td>\n",
       "    </tr>\n",
       "  </tbody>\n",
       "</table>\n",
       "<p>8 rows × 22 columns</p>\n",
       "</div>"
      ],
      "text/plain": [
       "               2022          2021          2020          2019          2018  \\\n",
       "count  1.085000e+03  1.085000e+03  1.085000e+03  1.085000e+03  1.085000e+03   \n",
       "mean   1.461378e+07  1.449711e+07  1.437307e+07  1.422876e+07  1.407966e+07   \n",
       "std    7.832944e+07  7.801505e+07  7.763257e+07  7.712985e+07  7.657562e+07   \n",
       "min    2.749000e+01  2.732503e+01  2.735104e+01  2.676295e+01  2.573928e+01   \n",
       "25%    5.034029e+01  5.035172e+01  5.034171e+01  5.033040e+01  5.033917e+01   \n",
       "50%    1.465500e+05  1.463660e+05  1.461650e+05  1.459570e+05  1.457520e+05   \n",
       "75%    5.903468e+06  5.856733e+06  5.831404e+06  5.814422e+06  5.774185e+06   \n",
       "max    1.417173e+09  1.412360e+09  1.411100e+09  1.407745e+09  1.402760e+09   \n",
       "\n",
       "               2017          2016          2015          2014          2013  \\\n",
       "count  1.085000e+03  1.085000e+03  1.085000e+03  1.085000e+03  1.085000e+03   \n",
       "mean   1.392568e+07  1.376711e+07  1.360705e+07  1.344625e+07  1.328368e+07   \n",
       "std    7.596457e+07  7.528760e+07  7.461740e+07  7.394894e+07  7.325356e+07   \n",
       "min    2.508394e+01  2.464721e+01  2.474106e+01  2.540718e+01  2.594943e+01   \n",
       "25%    5.033041e+01  5.033966e+01  5.033554e+01  5.032504e+01  5.033767e+01   \n",
       "50%    1.441350e+05  1.406060e+05  1.371850e+05  1.349620e+05  1.328960e+05   \n",
       "75%    5.686999e+06  5.629265e+06  5.544490e+06  5.524552e+06  5.480089e+06   \n",
       "max    1.396215e+09  1.387790e+09  1.379860e+09  1.371860e+09  1.363240e+09   \n",
       "\n",
       "       ...          2010          2009          2008          2007  \\\n",
       "count  ...  1.085000e+03  1.085000e+03  1.085000e+03  1.085000e+03   \n",
       "mean   ...  1.280537e+07  1.265031e+07  1.249535e+07  1.234099e+07   \n",
       "std    ...  7.113128e+07  7.047509e+07  6.982016e+07  6.915934e+07   \n",
       "min    ...  2.425072e+01  2.339422e+01  2.356750e+01  2.520779e+01   \n",
       "25%    ...  5.034833e+01  5.036836e+01  5.037388e+01  5.036880e+01   \n",
       "50%    ...  1.263090e+05  1.244660e+05  1.228070e+05  1.209490e+05   \n",
       "75%    ...  5.267970e+06  5.187356e+06  5.100083e+06  5.062560e+06   \n",
       "max    ...  1.337705e+09  1.331260e+09  1.324655e+09  1.317885e+09   \n",
       "\n",
       "               2006          2005          2004          2003          2002  \\\n",
       "count  1.085000e+03  1.085000e+03  1.085000e+03  1.085000e+03  1.085000e+03   \n",
       "mean   1.218858e+07  1.203685e+07  1.188626e+07  1.173626e+07  1.158653e+07   \n",
       "std    6.849229e+07  6.780708e+07  6.710041e+07  6.638386e+07  6.565651e+07   \n",
       "min    2.831990e+01  3.096426e+01  3.129133e+01  3.137472e+01  3.146521e+01   \n",
       "25%    5.038085e+01  5.037186e+01  5.036210e+01  5.039432e+01  5.039371e+01   \n",
       "50%    1.190890e+05  1.171330e+05  1.152950e+05  1.136960e+05  1.134500e+05   \n",
       "75%    5.007301e+06  4.989584e+06  4.813244e+06  4.758988e+06  4.698968e+06   \n",
       "max    1.311020e+09  1.303720e+09  1.296075e+09  1.288400e+09  1.280400e+09   \n",
       "\n",
       "               2001  \n",
       "count  1.085000e+03  \n",
       "mean   1.143598e+07  \n",
       "std    6.490862e+07  \n",
       "min    3.156689e+01  \n",
       "25%    5.038254e+01  \n",
       "50%    1.136410e+05  \n",
       "75%    4.535518e+06  \n",
       "max    1.271850e+09  \n",
       "\n",
       "[8 rows x 22 columns]"
      ]
     },
     "execution_count": 7,
     "metadata": {},
     "output_type": "execute_result"
    }
   ],
   "source": [
    "df.describe()"
   ]
  },
  {
   "cell_type": "markdown",
   "id": "5fb687dd",
   "metadata": {},
   "source": [
    "## checking for duplicates values"
   ]
  },
  {
   "cell_type": "code",
   "execution_count": 8,
   "id": "49707adc",
   "metadata": {},
   "outputs": [
    {
     "data": {
      "text/plain": [
       "0"
      ]
     },
     "execution_count": 8,
     "metadata": {},
     "output_type": "execute_result"
    }
   ],
   "source": [
    "df.duplicated().sum()"
   ]
  },
  {
   "cell_type": "markdown",
   "id": "17d3e74a",
   "metadata": {},
   "source": [
    "## checking for missing values"
   ]
  },
  {
   "cell_type": "code",
   "execution_count": 9,
   "id": "4b160d68",
   "metadata": {},
   "outputs": [
    {
     "data": {
      "text/plain": [
       "Series Name     0\n",
       "Series Code     0\n",
       "Country Name    0\n",
       "Country Code    0\n",
       "2022            0\n",
       "2021            0\n",
       "2020            0\n",
       "2019            0\n",
       "2018            0\n",
       "2017            0\n",
       "2016            0\n",
       "2015            0\n",
       "2014            0\n",
       "2013            0\n",
       "2012            0\n",
       "2011            0\n",
       "2010            0\n",
       "2009            0\n",
       "2008            0\n",
       "2007            0\n",
       "2006            0\n",
       "2005            0\n",
       "2004            0\n",
       "2003            0\n",
       "2002            0\n",
       "2001            0\n",
       "dtype: int64"
      ]
     },
     "execution_count": 9,
     "metadata": {},
     "output_type": "execute_result"
    }
   ],
   "source": [
    "df.isna().sum()"
   ]
  },
  {
   "cell_type": "markdown",
   "id": "e1e60324",
   "metadata": {},
   "source": [
    "## checking unique values for columns"
   ]
  },
  {
   "cell_type": "code",
   "execution_count": 10,
   "id": "cb880266",
   "metadata": {},
   "outputs": [
    {
     "name": "stdout",
     "output_type": "stream",
     "text": [
      "['Afghanistan' 'Albania' 'Algeria' 'American Samoa' 'Andorra' 'Angola'\n",
      " 'Antigua and Barbuda' 'Argentina' 'Armenia' 'Aruba' 'Australia' 'Austria'\n",
      " 'Azerbaijan' 'Bahamas, The' 'Bahrain' 'Bangladesh' 'Barbados' 'Belarus'\n",
      " 'Belgium' 'Belize' 'Benin' 'Bermuda' 'Bhutan' 'Bolivia'\n",
      " 'Bosnia and Herzegovina' 'Botswana' 'Brazil' 'British Virgin Islands'\n",
      " 'Brunei Darussalam' 'Bulgaria' 'Burkina Faso' 'Burundi' 'Cabo Verde'\n",
      " 'Cambodia' 'Cameroon' 'Canada' 'Cayman Islands'\n",
      " 'Central African Republic' 'Chad' 'Channel Islands' 'Chile' 'China'\n",
      " 'Colombia' 'Comoros' 'Congo, Dem. Rep.' 'Congo, Rep.' 'Costa Rica'\n",
      " \"Cote d'Ivoire\" 'Croatia' 'Cuba' 'Curacao' 'Cyprus' 'Czechia' 'Denmark'\n",
      " 'Djibouti' 'Dominica' 'Dominican Republic' 'Ecuador' 'Egypt, Arab Rep.'\n",
      " 'El Salvador' 'Equatorial Guinea' 'Eritrea' 'Estonia' 'Eswatini'\n",
      " 'Ethiopia' 'Faroe Islands' 'Fiji' 'Finland' 'France' 'French Polynesia'\n",
      " 'Gabon' 'Gambia, The' 'Georgia' 'Germany' 'Ghana' 'Gibraltar' 'Greece'\n",
      " 'Greenland' 'Grenada' 'Guam' 'Guatemala' 'Guinea' 'Guinea-Bissau'\n",
      " 'Guyana' 'Haiti' 'Honduras' 'Hong Kong SAR, China' 'Hungary' 'Iceland'\n",
      " 'India' 'Indonesia' 'Iran, Islamic Rep.' 'Iraq' 'Ireland' 'Isle of Man'\n",
      " 'Israel' 'Italy' 'Jamaica' 'Japan' 'Jordan' 'Kazakhstan' 'Kenya'\n",
      " 'Kiribati' \"Korea, Dem. People's Rep.\" 'Korea, Rep.' 'Kosovo' 'Kuwait'\n",
      " 'Kyrgyz Republic' 'Lao PDR' 'Latvia' 'Lebanon' 'Lesotho' 'Liberia'\n",
      " 'Libya' 'Liechtenstein' 'Lithuania' 'Luxembourg' 'Macao SAR, China'\n",
      " 'Madagascar' 'Malawi' 'Malaysia' 'Maldives' 'Mali' 'Malta'\n",
      " 'Marshall Islands' 'Mauritania' 'Mauritius' 'Mexico'\n",
      " 'Micronesia, Fed. Sts.' 'Moldova' 'Monaco' 'Mongolia' 'Montenegro'\n",
      " 'Morocco' 'Mozambique' 'Myanmar' 'Namibia' 'Nauru' 'Nepal' 'Netherlands'\n",
      " 'New Caledonia' 'New Zealand' 'Nicaragua' 'Niger' 'Nigeria'\n",
      " 'North Macedonia' 'Northern Mariana Islands' 'Norway' 'Oman' 'Pakistan'\n",
      " 'Palau' 'Panama' 'Papua New Guinea' 'Paraguay' 'Peru' 'Philippines'\n",
      " 'Poland' 'Portugal' 'Puerto Rico' 'Qatar' 'Romania' 'Russian Federation'\n",
      " 'Rwanda' 'Samoa' 'San Marino' 'Sao Tome and Principe' 'Saudi Arabia'\n",
      " 'Senegal' 'Serbia' 'Seychelles' 'Sierra Leone' 'Singapore'\n",
      " 'Sint Maarten (Dutch part)' 'Slovak Republic' 'Slovenia'\n",
      " 'Solomon Islands' 'Somalia' 'South Africa' 'South Sudan' 'Spain'\n",
      " 'Sri Lanka' 'St. Kitts and Nevis' 'St. Lucia' 'St. Martin (French part)'\n",
      " 'St. Vincent and the Grenadines' 'Sudan' 'Suriname' 'Sweden'\n",
      " 'Switzerland' 'Syrian Arab Republic' 'Tajikistan' 'Tanzania' 'Thailand'\n",
      " 'Timor-Leste' 'Togo' 'Tonga' 'Trinidad and Tobago' 'Tunisia' 'Turkiye'\n",
      " 'Turkmenistan' 'Turks and Caicos Islands' 'Tuvalu' 'Uganda' 'Ukraine'\n",
      " 'United Arab Emirates' 'United Kingdom' 'United States' 'Uruguay'\n",
      " 'Uzbekistan' 'Vanuatu' 'Venezuela, RB' 'Vietnam' 'Virgin Islands (U.S.)'\n",
      " 'West Bank and Gaza' 'Yemen, Rep.' 'Zambia' 'Zimbabwe']\n",
      "\n",
      " total no of unique countries: 217\n"
     ]
    }
   ],
   "source": [
    "print(df['Country Name'].unique())\n",
    "print(\"\\n total no of unique countries:\",df['Country Name'].nunique())"
   ]
  },
  {
   "cell_type": "code",
   "execution_count": 14,
   "id": "2709dfaa",
   "metadata": {},
   "outputs": [
    {
     "name": "stdout",
     "output_type": "stream",
     "text": [
      "['AFG' 'ALB' 'DZA' 'ASM' 'AND' 'AGO' 'ATG' 'ARG' 'ARM' 'ABW' 'AUS' 'AUT'\n",
      " 'AZE' 'BHS' 'BHR' 'BGD' 'BRB' 'BLR' 'BEL' 'BLZ' 'BEN' 'BMU' 'BTN' 'BOL'\n",
      " 'BIH' 'BWA' 'BRA' 'VGB' 'BRN' 'BGR' 'BFA' 'BDI' 'CPV' 'KHM' 'CMR' 'CAN'\n",
      " 'CYM' 'CAF' 'TCD' 'CHI' 'CHL' 'CHN' 'COL' 'COM' 'COD' 'COG' 'CRI' 'CIV'\n",
      " 'HRV' 'CUB' 'CUW' 'CYP' 'CZE' 'DNK' 'DJI' 'DMA' 'DOM' 'ECU' 'EGY' 'SLV'\n",
      " 'GNQ' 'ERI' 'EST' 'SWZ' 'ETH' 'FRO' 'FJI' 'FIN' 'FRA' 'PYF' 'GAB' 'GMB'\n",
      " 'GEO' 'DEU' 'GHA' 'GIB' 'GRC' 'GRL' 'GRD' 'GUM' 'GTM' 'GIN' 'GNB' 'GUY'\n",
      " 'HTI' 'HND' 'HKG' 'HUN' 'ISL' 'IND' 'IDN' 'IRN' 'IRQ' 'IRL' 'IMN' 'ISR'\n",
      " 'ITA' 'JAM' 'JPN' 'JOR' 'KAZ' 'KEN' 'KIR' 'PRK' 'KOR' 'XKX' 'KWT' 'KGZ'\n",
      " 'LAO' 'LVA' 'LBN' 'LSO' 'LBR' 'LBY' 'LIE' 'LTU' 'LUX' 'MAC' 'MDG' 'MWI'\n",
      " 'MYS' 'MDV' 'MLI' 'MLT' 'MHL' 'MRT' 'MUS' 'MEX' 'FSM' 'MDA' 'MCO' 'MNG'\n",
      " 'MNE' 'MAR' 'MOZ' 'MMR' 'NAM' 'NRU' 'NPL' 'NLD' 'NCL' 'NZL' 'NIC' 'NER'\n",
      " 'NGA' 'MKD' 'MNP' 'NOR' 'OMN' 'PAK' 'PLW' 'PAN' 'PNG' 'PRY' 'PER' 'PHL'\n",
      " 'POL' 'PRT' 'PRI' 'QAT' 'ROU' 'RUS' 'RWA' 'WSM' 'SMR' 'STP' 'SAU' 'SEN'\n",
      " 'SRB' 'SYC' 'SLE' 'SGP' 'SXM' 'SVK' 'SVN' 'SLB' 'SOM' 'ZAF' 'SSD' 'ESP'\n",
      " 'LKA' 'KNA' 'LCA' 'MAF' 'VCT' 'SDN' 'SUR' 'SWE' 'CHE' 'SYR' 'TJK' 'TZA'\n",
      " 'THA' 'TLS' 'TGO' 'TON' 'TTO' 'TUN' 'TUR' 'TKM' 'TCA' 'TUV' 'UGA' 'UKR'\n",
      " 'ARE' 'GBR' 'USA' 'URY' 'UZB' 'VUT' 'VEN' 'VNM' 'VIR' 'PSE' 'YEM' 'ZMB'\n",
      " 'ZWE']\n",
      "\n",
      " Total no of unique country code: 217\n"
     ]
    }
   ],
   "source": [
    "print(df['Country Code'].unique())\n",
    "print(\"\\n Total no of unique country code:\",df['Country Code'].nunique())"
   ]
  },
  {
   "cell_type": "markdown",
   "id": "0de0497b",
   "metadata": {},
   "source": [
    "## dropping unnecessary colummns"
   ]
  },
  {
   "cell_type": "code",
   "execution_count": 15,
   "id": "6aa625b7",
   "metadata": {},
   "outputs": [
    {
     "name": "stdout",
     "output_type": "stream",
     "text": [
      "Index(['Series Code', 'Country Code', '2022', '2021', '2020', '2019', '2018',\n",
      "       '2017', '2016', '2015', '2014', '2013', '2012', '2011', '2010', '2009',\n",
      "       '2008', '2007', '2006', '2005', '2004', '2003', '2002', '2001'],\n",
      "      dtype='object')\n"
     ]
    }
   ],
   "source": [
    "print(df.columns)\n"
   ]
  },
  {
   "cell_type": "code",
   "execution_count": 16,
   "id": "090c1c22",
   "metadata": {},
   "outputs": [],
   "source": [
    "df.drop(['Series Name', 'Country Name'], axis=1, inplace=True, errors='ignore')\n"
   ]
  },
  {
   "cell_type": "markdown",
   "id": "e82dcbe8",
   "metadata": {},
   "source": [
    "## extraction of top 10 countries with respect to total population"
   ]
  },
  {
   "cell_type": "code",
   "execution_count": 19,
   "id": "9481f884",
   "metadata": {},
   "outputs": [
    {
     "name": "stdout",
     "output_type": "stream",
     "text": [
      "top ten countries of total population\n",
      "\n",
      "Empty DataFrame\n",
      "Columns: [Country Code]\n",
      "Index: []\n"
     ]
    }
   ],
   "source": [
    "#filter data for total population\n",
    "total_population_data = df[df['Series Code'] == 'SP,POP.TOTL']\n",
    "\n",
    "\n",
    "#SORT data based on the total population for 2022\n",
    "total_population_sorted = total_population_data.sort_values(by=\"2022\",ascending = False)\n",
    "\n",
    "#get the top ten countries with the highest total population for 2022\n",
    "total_top_ten_countries = total_population_sorted.head(10)\n",
    "print(\"top ten countries of total population\\n\")\n",
    "print(total_top_ten_countries[['Country Code']])\n"
   ]
  },
  {
   "cell_type": "code",
   "execution_count": 20,
   "id": "8e1a11b6",
   "metadata": {},
   "outputs": [
    {
     "name": "stdout",
     "output_type": "stream",
     "text": [
      "top ten countries of total population\n",
      "\n",
      "Empty DataFrame\n",
      "Columns: [Country Code]\n",
      "Index: []\n"
     ]
    }
   ],
   "source": [
    "#filter data for total population\n",
    "total_population_data = df[df['Series Code'] == 'SP,POP.TOTL']\n",
    "\n",
    "\n",
    "#SORT data based on the total population for 2022\n",
    "total_population_sorted = total_population_data.sort_values(by=\"2022\",ascending = False)\n",
    "\n",
    "#get the top ten countries with the highest total population for 2022\n",
    "total_top_ten_countries = total_population_sorted.head(10)\n",
    "print(\"top ten countries of total population\\n\")\n",
    "print(total_top_ten_countries[['Country Code']])\n"
   ]
  },
  {
   "cell_type": "code",
   "execution_count": 21,
   "id": "29155e8e",
   "metadata": {},
   "outputs": [
    {
     "name": "stdout",
     "output_type": "stream",
     "text": [
      "Index(['Series Code', 'Country Code', '2022', '2021', '2020', '2019', '2018',\n",
      "       '2017', '2016', '2015', '2014', '2013', '2012', '2011', '2010', '2009',\n",
      "       '2008', '2007', '2006', '2005', '2004', '2003', '2002', '2001'],\n",
      "      dtype='object')\n"
     ]
    }
   ],
   "source": [
    "print(df.columns)\n"
   ]
  },
  {
   "cell_type": "code",
   "execution_count": 22,
   "id": "3133c60a",
   "metadata": {},
   "outputs": [
    {
     "name": "stdout",
     "output_type": "stream",
     "text": [
      "['SP.POP.TOTL' 'SP.POP.TOTL.FE.IN' 'SP.POP.TOTL.MA.IN' 'SP.POP.TOTL.FE.ZS'\n",
      " 'SP.POP.TOTL.MA.ZS']\n"
     ]
    }
   ],
   "source": [
    "print(df['Series Code'].unique())\n"
   ]
  },
  {
   "cell_type": "code",
   "execution_count": 23,
   "id": "f3bc6c0a",
   "metadata": {},
   "outputs": [],
   "source": [
    "df['Series Code'] = df['Series Code'].str.strip()\n"
   ]
  },
  {
   "cell_type": "code",
   "execution_count": 24,
   "id": "37d061bc",
   "metadata": {},
   "outputs": [],
   "source": [
    "total_population_data = df[df['Series Code'] == 'SP.POP.TOTL']\n"
   ]
  },
  {
   "cell_type": "code",
   "execution_count": 25,
   "id": "eafa3aaa",
   "metadata": {},
   "outputs": [
    {
     "name": "stdout",
     "output_type": "stream",
     "text": [
      "   Series Code Country Code        2022        2021        2020        2019  \\\n",
      "0  SP.POP.TOTL          AFG  41128771.0  40099462.0  38972230.0  37769499.0   \n",
      "1  SP.POP.TOTL          ALB   2775634.0   2811666.0   2837849.0   2854191.0   \n",
      "2  SP.POP.TOTL          DZA  44903225.0  44177969.0  43451666.0  42705368.0   \n",
      "3  SP.POP.TOTL          ASM     44273.0     45035.0     46189.0     47321.0   \n",
      "4  SP.POP.TOTL          AND     79824.0     79034.0     77700.0     76343.0   \n",
      "\n",
      "         2018        2017        2016        2015  ...        2010  \\\n",
      "0  36686784.0  35643418.0  34636207.0  33753499.0  ...  28189672.0   \n",
      "1   2866376.0   2873457.0   2876101.0   2880703.0  ...   2913021.0   \n",
      "2  41927007.0  41136546.0  40339329.0  39543154.0  ...  35856344.0   \n",
      "3     48424.0     49463.0     50448.0     51368.0  ...     54849.0   \n",
      "4     75013.0     73837.0     72540.0     71746.0  ...     71519.0   \n",
      "\n",
      "         2009        2008        2007        2006        2005        2004  \\\n",
      "0  27385307.0  26427199.0  25903301.0  25442944.0  24411191.0  23553551.0   \n",
      "1   2927519.0   2947314.0   2970017.0   2992547.0   3011487.0   3026939.0   \n",
      "2  35196037.0  34569592.0  33983827.0  33435080.0  32956690.0  32510186.0   \n",
      "3     55366.0     55891.0     56383.0     56837.0     57254.0     57626.0   \n",
      "4     73852.0     76055.0     78168.0     80221.0     79826.0     76933.0   \n",
      "\n",
      "         2003        2002        2001  \n",
      "0  22645130.0  21000256.0  19688632.0  \n",
      "1   3039616.0   3051010.0   3060173.0  \n",
      "2  32055883.0  31624696.0  31200985.0  \n",
      "3     57941.0     58177.0     58324.0  \n",
      "4     73907.0     70849.0     67820.0  \n",
      "\n",
      "[5 rows x 24 columns]\n"
     ]
    }
   ],
   "source": [
    "print(total_population_data.head())\n"
   ]
  },
  {
   "cell_type": "code",
   "execution_count": 26,
   "id": "2b725a2d",
   "metadata": {},
   "outputs": [
    {
     "name": "stdout",
     "output_type": "stream",
     "text": [
      "Index(['Series Code', 'Country Code', '2022', '2021', '2020', '2019', '2018',\n",
      "       '2017', '2016', '2015', '2014', '2013', '2012', '2011', '2010', '2009',\n",
      "       '2008', '2007', '2006', '2005', '2004', '2003', '2002', '2001'],\n",
      "      dtype='object')\n"
     ]
    }
   ],
   "source": [
    "print(df.columns)\n"
   ]
  },
  {
   "cell_type": "code",
   "execution_count": 27,
   "id": "0fa7c333",
   "metadata": {},
   "outputs": [],
   "source": [
    "df.columns = df.columns.astype(str)\n"
   ]
  },
  {
   "cell_type": "code",
   "execution_count": 28,
   "id": "a7c93445",
   "metadata": {},
   "outputs": [],
   "source": [
    "total_population_sorted = total_population_data.sort_values(by=\"2022\", ascending=False)\n"
   ]
  },
  {
   "cell_type": "code",
   "execution_count": 29,
   "id": "9456553e",
   "metadata": {},
   "outputs": [
    {
     "name": "stdout",
     "output_type": "stream",
     "text": [
      "Top ten countries of total population\n",
      "\n",
      "    Country Code          2022\n",
      "89           IND  1.417173e+09\n",
      "41           CHN  1.412175e+09\n",
      "206          USA  3.332876e+08\n",
      "90           IDN  2.755013e+08\n",
      "149          PAK  2.358249e+08\n",
      "144          NGA  2.185412e+08\n",
      "26           BRA  2.153135e+08\n",
      "15           BGD  1.711864e+08\n",
      "161          RUS  1.435557e+08\n",
      "127          MEX  1.275041e+08\n"
     ]
    }
   ],
   "source": [
    "# Make sure all columns are strings for consistency\n",
    "df.columns = df.columns.astype(str)\n",
    "\n",
    "# Filter for total population\n",
    "total_population_data = df[df['Series Code'].str.strip() == 'SP.POP.TOTL']\n",
    "\n",
    "# Sort by 2022 population\n",
    "total_population_sorted = total_population_data.sort_values(by=\"2022\", ascending=False)\n",
    "\n",
    "# Get top 10 countries\n",
    "total_top_ten_countries = total_population_sorted.head(10)\n",
    "\n",
    "# Print full result — include index\n",
    "print(\"Top ten countries of total population\\n\")\n",
    "print(total_top_ten_countries[['Country Code', '2022']])\n"
   ]
  },
  {
   "cell_type": "code",
   "execution_count": 30,
   "id": "525b81be",
   "metadata": {},
   "outputs": [
    {
     "name": "stdout",
     "output_type": "stream",
     "text": [
      "    Country Code          2022\n",
      "89           IND 1,417,173,173\n",
      "41           CHN 1,412,175,000\n",
      "206          USA   333,287,557\n",
      "90           IDN   275,501,339\n",
      "149          PAK   235,824,862\n",
      "144          NGA   218,541,212\n",
      "26           BRA   215,313,498\n",
      "15           BGD   171,186,372\n",
      "161          RUS   143,555,736\n",
      "127          MEX   127,504,125\n"
     ]
    }
   ],
   "source": [
    "# Set display format for floats\n",
    "pd.options.display.float_format = '{:,.0f}'.format\n",
    "\n",
    "# Re-run the print\n",
    "print(total_top_ten_countries[['Country Code', '2022']])\n"
   ]
  },
  {
   "cell_type": "markdown",
   "id": "0c9e4719",
   "metadata": {},
   "source": [
    "## Bar Plot"
   ]
  },
  {
   "cell_type": "markdown",
   "id": "ff77b6e4",
   "metadata": {},
   "source": [
    "## top ten countries of total population in year 2022 and 2016"
   ]
  },
  {
   "cell_type": "code",
   "execution_count": 38,
   "id": "b8831774",
   "metadata": {},
   "outputs": [
    {
     "data": {
      "image/png": "[encoded data removed]",
      "text/plain": [
       "<Figure size 1080x432 with 1 Axes>"
      ]
     },
     "metadata": {
      "needs_background": "light"
     },
     "output_type": "display_data"
    },
    {
     "data": {
      "image/png": "[encoded data removed]",
      "text/plain": [
       "<Figure size 1080x432 with 1 Axes>"
      ]
     },
     "metadata": {
      "needs_background": "light"
     },
     "output_type": "display_data"
    }
   ],
   "source": [
    "#create a bar plot\n",
    "plt.figure(figsize=(15,6))\n",
    "plt.subplot(2,2,1)\n",
    "sns.barplot(x=\"2022\",y=\"Country Code\",data=total_top_ten_countries,palette=\"coolwarm\")\n",
    "plt.title(\"top ten countries of total population(2022)\",fontsize=10)\n",
    "plt.xlabel(\"total population\",fontsize=10)\n",
    "plt.ylabel(\"Country\",fontsize=10)\n",
    "plt.show()\n",
    "\n",
    "#create a bar plot\n",
    "plt.figure(figsize=(15,6))\n",
    "plt.subplot(2,2,2)\n",
    "sns.barplot(x=\"2016\",y=\"Country Code\",data=total_top_ten_countries,palette=\"coolwarm\")\n",
    "plt.title(\"top ten countries of total population(2016)\",fontsize=10)\n",
    "plt.xlabel(\"total population\",fontsize=10)\n",
    "plt.ylabel(\"Country\",fontsize=10)\n",
    "plt.show()"
   ]
  },
  {
   "cell_type": "markdown",
   "id": "ec0f4ef7",
   "metadata": {},
   "source": [
    "## extraction of bottom 10 countries with respect to total population"
   ]
  },
  {
   "cell_type": "code",
   "execution_count": 40,
   "id": "a070ba74",
   "metadata": {},
   "outputs": [
    {
     "name": "stdout",
     "output_type": "stream",
     "text": [
      "Bottom ten countries of total population\n",
      "\n",
      "    Country Code\n",
      "201          TUV\n",
      "137          NRU\n",
      "150          PLW\n",
      "27           VGB\n",
      "183          MAF\n",
      "75           GIB\n",
      "164          SMR\n",
      "130          MCO\n",
      "114          LIE\n",
      "124          MHL\n"
     ]
    }
   ],
   "source": [
    "# Sort by 2022 population\n",
    "total_population_sorted1= total_population_data.sort_values(by=\"2022\", ascending=True)\n",
    "\n",
    "# Get top 10 countries\n",
    "total_Bottom_ten_countries = total_population_sorted1.head(10)\n",
    "\n",
    "# Print full result — include index\n",
    "print(\"Bottom ten countries of total population\\n\")\n",
    "print(total_Bottom_ten_countries[['Country Code']])\n"
   ]
  },
  {
   "cell_type": "markdown",
   "id": "bc999a2f",
   "metadata": {},
   "source": [
    " ## Bottom ten countries of total population in year 2022 and 2016"
   ]
  },
  {
   "cell_type": "code",
   "execution_count": 41,
   "id": "ffb7c80a",
   "metadata": {},
   "outputs": [
    {
     "data": {
      "image/png": "[encoded data removed]",
      "text/plain": [
       "<Figure size 1080x432 with 1 Axes>"
      ]
     },
     "metadata": {
      "needs_background": "light"
     },
     "output_type": "display_data"
    },
    {
     "data": {
      "image/png": "[encoded data removed]",
      "text/plain": [
       "<Figure size 1080x432 with 1 Axes>"
      ]
     },
     "metadata": {
      "needs_background": "light"
     },
     "output_type": "display_data"
    }
   ],
   "source": [
    "#create a bar plot\n",
    "plt.figure(figsize=(15,6))\n",
    "plt.subplot(2,2,1)\n",
    "sns.barplot(x=\"2022\",y=\"Country Code\",data=total_Bottom_ten_countries,palette=\"coolwarm\")\n",
    "plt.title(\"Bottom ten countries of total population(2022)\",fontsize=10)\n",
    "plt.xlabel(\"total population\",fontsize=10)\n",
    "plt.ylabel(\"Country\",fontsize=10)\n",
    "plt.show()\n",
    "\n",
    "#create a bar plot\n",
    "plt.figure(figsize=(15,6))\n",
    "plt.subplot(2,2,2)\n",
    "sns.barplot(x=\"2016\",y=\"Country Code\",data=total_Bottom_ten_countries,palette=\"coolwarm\")\n",
    "plt.title(\"Bottom ten countries of total population(2016)\",fontsize=10)\n",
    "plt.xlabel(\"total population\",fontsize=10)\n",
    "plt.ylabel(\"Country\",fontsize=10)\n",
    "plt.show()"
   ]
  },
  {
   "cell_type": "markdown",
   "id": "7153dc40",
   "metadata": {},
   "source": [
    "## extraction of top ten countries with highest male population"
   ]
  },
  {
   "cell_type": "code",
   "execution_count": 42,
   "id": "80580df2",
   "metadata": {},
   "outputs": [
    {
     "name": "stdout",
     "output_type": "stream",
     "text": [
      "top ten countries of male population\n",
      "    Country Code\n",
      "523          IND\n",
      "475          CHN\n",
      "640          USA\n",
      "524          IDN\n",
      "583          PAK\n",
      "578          NGA\n",
      "460          BRA\n",
      "449          BGD\n",
      "595          RUS\n",
      "561          MEX\n"
     ]
    }
   ],
   "source": [
    "#filter data for male population\n",
    "male_population_data = df[df['Series Code']=='SP.POP.TOTL.MA.IN']\n",
    "\n",
    "\n",
    "#SORT DATA BASED ON THE MALE population for 2022\n",
    "male_population_sorted=male_population_data.sort_values(by=\"2022\",ascending=False)\n",
    "#get the top ten countries with the highest male population for 2022\n",
    "male_top_ten_countries = male_population_sorted .head(10)\n",
    "print(\"top ten countries of male population\")\n",
    "print(male_top_ten_countries[['Country Code']])"
   ]
  },
  {
   "cell_type": "code",
   "execution_count": 43,
   "id": "1f9996d2",
   "metadata": {},
   "outputs": [
    {
     "name": "stdout",
     "output_type": "stream",
     "text": [
      "top ten countries of female population\n",
      "    Country Code\n",
      "258          CHN\n",
      "306          IND\n",
      "423          USA\n",
      "307          IDN\n",
      "366          PAK\n",
      "243          BRA\n",
      "361          NGA\n",
      "232          BGD\n",
      "378          RUS\n",
      "344          MEX\n"
     ]
    }
   ],
   "source": [
    "#filter data for female population\n",
    "female_population_data = df[df['Series Code']=='SP.POP.TOTL.FE.IN']\n",
    "\n",
    "\n",
    "#SORT DATA BASED ON THE MALE population for 2022\n",
    "female_population_sorted=female_population_data.sort_values(by=\"2022\",ascending=False)\n",
    "#get the top ten countries with the highest female population for 2022\n",
    "female_top_ten_countries = female_population_sorted .head(10)\n",
    "print(\"top ten countries of female population\")\n",
    "print(female_top_ten_countries[['Country Code']])"
   ]
  },
  {
   "cell_type": "markdown",
   "id": "8e71753f",
   "metadata": {},
   "source": [
    "## top ten countries with highest male and female population in 2022"
   ]
  },
  {
   "cell_type": "code",
   "execution_count": 46,
   "id": "a5844f87",
   "metadata": {},
   "outputs": [
    {
     "data": {
      "image/png": "[encoded data removed]",
      "text/plain": [
       "<Figure size 1080x432 with 1 Axes>"
      ]
     },
     "metadata": {
      "needs_background": "light"
     },
     "output_type": "display_data"
    },
    {
     "data": {
      "image/png": "[encoded data removed]",
      "text/plain": [
       "<Figure size 1080x432 with 1 Axes>"
      ]
     },
     "metadata": {
      "needs_background": "light"
     },
     "output_type": "display_data"
    }
   ],
   "source": [
    "#create a bar plot\n",
    "plt.figure(figsize=(15,6))\n",
    "plt.subplot(2,2,1)\n",
    "sns.barplot(x=\"2022\",y=\"Country Code\",data=male_top_ten_countries,palette=\"viridis\")\n",
    "plt.title(\"top ten countries of male population(2022)\",fontsize=10)\n",
    "plt.xlabel(\"male population\",fontsize=10)\n",
    "plt.ylabel(\"Country\",fontsize=10)\n",
    "plt.show()\n",
    "\n",
    "#create a bar plot\n",
    "plt.figure(figsize=(15,6))\n",
    "plt.subplot(2,2,2)\n",
    "sns.barplot(x=\"2016\",y=\"Country Code\",data=female_top_ten_countries,palette=\"viridis\")\n",
    "plt.title(\"top ten countries of female population(2022)\",fontsize=10)\n",
    "plt.xlabel(\"female population\",fontsize=10)\n",
    "plt.ylabel(\"Country\",fontsize=10)\n",
    "plt.show()"
   ]
  },
  {
   "cell_type": "markdown",
   "id": "05153ef5",
   "metadata": {},
   "source": [
    "## Stacked Bar Plot\n"
   ]
  },
  {
   "cell_type": "markdown",
   "id": "074e7dbf",
   "metadata": {},
   "source": [
    "## top 10 countries with male and female population"
   ]
  },
  {
   "cell_type": "code",
   "execution_count": 47,
   "id": "1335d57d",
   "metadata": {},
   "outputs": [],
   "source": [
    "#merge male and female population data on 'Country Code'\n",
    "merge_data=pd.merge(male_population_data,female_population_data,on=\"Country Code\",suffixes=(\"_male\",\"_female\"))"
   ]
  },
  {
   "cell_type": "code",
   "execution_count": 48,
   "id": "fde16327",
   "metadata": {},
   "outputs": [],
   "source": [
    "#merged data\n",
    "#calculate the total population for each week for each country(male + female)\n",
    "merge_data[\"Total population\"]=merge_data[\"2022_male\"] + merge_data [\"2022_female\"]"
   ]
  },
  {
   "cell_type": "code",
   "execution_count": 49,
   "id": "d8525ac5",
   "metadata": {},
   "outputs": [
    {
     "data": {
      "text/html": [
       "<div>\n",
       "<style scoped>\n",
       "    .dataframe tbody tr th:only-of-type {\n",
       "        vertical-align: middle;\n",
       "    }\n",
       "\n",
       "    .dataframe tbody tr th {\n",
       "        vertical-align: top;\n",
       "    }\n",
       "\n",
       "    .dataframe thead th {\n",
       "        text-align: right;\n",
       "    }\n",
       "</style>\n",
       "<table border=\"1\" class=\"dataframe\">\n",
       "  <thead>\n",
       "    <tr style=\"text-align: right;\">\n",
       "      <th></th>\n",
       "      <th>Series Code_male</th>\n",
       "      <th>Country Code</th>\n",
       "      <th>2022_male</th>\n",
       "      <th>2021_male</th>\n",
       "      <th>2020_male</th>\n",
       "      <th>2019_male</th>\n",
       "      <th>2018_male</th>\n",
       "      <th>2017_male</th>\n",
       "      <th>2016_male</th>\n",
       "      <th>2015_male</th>\n",
       "      <th>...</th>\n",
       "      <th>2009_female</th>\n",
       "      <th>2008_female</th>\n",
       "      <th>2007_female</th>\n",
       "      <th>2006_female</th>\n",
       "      <th>2005_female</th>\n",
       "      <th>2004_female</th>\n",
       "      <th>2003_female</th>\n",
       "      <th>2002_female</th>\n",
       "      <th>2001_female</th>\n",
       "      <th>Total population</th>\n",
       "    </tr>\n",
       "  </thead>\n",
       "  <tbody>\n",
       "    <tr>\n",
       "      <th>0</th>\n",
       "      <td>SP.POP.TOTL.MA.IN</td>\n",
       "      <td>AFG</td>\n",
       "      <td>20,766,442</td>\n",
       "      <td>20,254,878</td>\n",
       "      <td>19,692,301</td>\n",
       "      <td>19,090,409</td>\n",
       "      <td>18,549,862</td>\n",
       "      <td>18,028,696</td>\n",
       "      <td>17,520,861</td>\n",
       "      <td>17,071,446</td>\n",
       "      <td>...</td>\n",
       "      <td>13,557,331</td>\n",
       "      <td>13,088,192</td>\n",
       "      <td>12,835,340</td>\n",
       "      <td>12,614,497</td>\n",
       "      <td>12,109,086</td>\n",
       "      <td>11,690,825</td>\n",
       "      <td>11,247,647</td>\n",
       "      <td>10,438,055</td>\n",
       "      <td>9,793,166</td>\n",
       "      <td>41,128,771</td>\n",
       "    </tr>\n",
       "    <tr>\n",
       "      <th>1</th>\n",
       "      <td>SP.POP.TOTL.MA.IN</td>\n",
       "      <td>ALB</td>\n",
       "      <td>1,384,548</td>\n",
       "      <td>1,404,454</td>\n",
       "      <td>1,419,264</td>\n",
       "      <td>1,428,828</td>\n",
       "      <td>1,435,881</td>\n",
       "      <td>1,440,219</td>\n",
       "      <td>1,442,176</td>\n",
       "      <td>1,444,890</td>\n",
       "      <td>...</td>\n",
       "      <td>1,462,978</td>\n",
       "      <td>1,474,838</td>\n",
       "      <td>1,488,396</td>\n",
       "      <td>1,501,918</td>\n",
       "      <td>1,513,578</td>\n",
       "      <td>1,523,393</td>\n",
       "      <td>1,531,532</td>\n",
       "      <td>1,538,490</td>\n",
       "      <td>1,543,533</td>\n",
       "      <td>2,775,633</td>\n",
       "    </tr>\n",
       "    <tr>\n",
       "      <th>2</th>\n",
       "      <td>SP.POP.TOTL.MA.IN</td>\n",
       "      <td>DZA</td>\n",
       "      <td>22,862,237</td>\n",
       "      <td>22,497,244</td>\n",
       "      <td>22,132,899</td>\n",
       "      <td>21,756,903</td>\n",
       "      <td>21,362,603</td>\n",
       "      <td>20,961,313</td>\n",
       "      <td>20,556,314</td>\n",
       "      <td>20,152,232</td>\n",
       "      <td>...</td>\n",
       "      <td>17,249,096</td>\n",
       "      <td>16,941,031</td>\n",
       "      <td>16,653,361</td>\n",
       "      <td>16,384,158</td>\n",
       "      <td>16,150,274</td>\n",
       "      <td>15,932,047</td>\n",
       "      <td>15,709,725</td>\n",
       "      <td>15,497,822</td>\n",
       "      <td>15,288,132</td>\n",
       "      <td>44,903,224</td>\n",
       "    </tr>\n",
       "    <tr>\n",
       "      <th>3</th>\n",
       "      <td>SP.POP.TOTL.MA.IN</td>\n",
       "      <td>ASM</td>\n",
       "      <td>21,873</td>\n",
       "      <td>22,289</td>\n",
       "      <td>22,921</td>\n",
       "      <td>23,535</td>\n",
       "      <td>24,134</td>\n",
       "      <td>24,701</td>\n",
       "      <td>25,240</td>\n",
       "      <td>25,739</td>\n",
       "      <td>...</td>\n",
       "      <td>27,406</td>\n",
       "      <td>27,626</td>\n",
       "      <td>27,842</td>\n",
       "      <td>28,044</td>\n",
       "      <td>28,230</td>\n",
       "      <td>28,392</td>\n",
       "      <td>28,521</td>\n",
       "      <td>28,608</td>\n",
       "      <td>28,649</td>\n",
       "      <td>44,272</td>\n",
       "    </tr>\n",
       "    <tr>\n",
       "      <th>4</th>\n",
       "      <td>SP.POP.TOTL.MA.IN</td>\n",
       "      <td>AND</td>\n",
       "      <td>40,786</td>\n",
       "      <td>40,361</td>\n",
       "      <td>39,615</td>\n",
       "      <td>38,842</td>\n",
       "      <td>38,071</td>\n",
       "      <td>37,380</td>\n",
       "      <td>36,628</td>\n",
       "      <td>36,188</td>\n",
       "      <td>...</td>\n",
       "      <td>36,065</td>\n",
       "      <td>36,864</td>\n",
       "      <td>37,633</td>\n",
       "      <td>38,392</td>\n",
       "      <td>38,147</td>\n",
       "      <td>36,852</td>\n",
       "      <td>35,478</td>\n",
       "      <td>34,076</td>\n",
       "      <td>32,669</td>\n",
       "      <td>79,824</td>\n",
       "    </tr>\n",
       "  </tbody>\n",
       "</table>\n",
       "<p>5 rows × 48 columns</p>\n",
       "</div>"
      ],
      "text/plain": [
       "    Series Code_male Country Code  2022_male  2021_male  2020_male  2019_male  \\\n",
       "0  SP.POP.TOTL.MA.IN          AFG 20,766,442 20,254,878 19,692,301 19,090,409   \n",
       "1  SP.POP.TOTL.MA.IN          ALB  1,384,548  1,404,454  1,419,264  1,428,828   \n",
       "2  SP.POP.TOTL.MA.IN          DZA 22,862,237 22,497,244 22,132,899 21,756,903   \n",
       "3  SP.POP.TOTL.MA.IN          ASM     21,873     22,289     22,921     23,535   \n",
       "4  SP.POP.TOTL.MA.IN          AND     40,786     40,361     39,615     38,842   \n",
       "\n",
       "   2018_male  2017_male  2016_male  2015_male  ...  2009_female  2008_female  \\\n",
       "0 18,549,862 18,028,696 17,520,861 17,071,446  ...   13,557,331   13,088,192   \n",
       "1  1,435,881  1,440,219  1,442,176  1,444,890  ...    1,462,978    1,474,838   \n",
       "2 21,362,603 20,961,313 20,556,314 20,152,232  ...   17,249,096   16,941,031   \n",
       "3     24,134     24,701     25,240     25,739  ...       27,406       27,626   \n",
       "4     38,071     37,380     36,628     36,188  ...       36,065       36,864   \n",
       "\n",
       "   2007_female  2006_female  2005_female  2004_female  2003_female  \\\n",
       "0   12,835,340   12,614,497   12,109,086   11,690,825   11,247,647   \n",
       "1    1,488,396    1,501,918    1,513,578    1,523,393    1,531,532   \n",
       "2   16,653,361   16,384,158   16,150,274   15,932,047   15,709,725   \n",
       "3       27,842       28,044       28,230       28,392       28,521   \n",
       "4       37,633       38,392       38,147       36,852       35,478   \n",
       "\n",
       "   2002_female  2001_female  Total population  \n",
       "0   10,438,055    9,793,166        41,128,771  \n",
       "1    1,538,490    1,543,533         2,775,633  \n",
       "2   15,497,822   15,288,132        44,903,224  \n",
       "3       28,608       28,649            44,272  \n",
       "4       34,076       32,669            79,824  \n",
       "\n",
       "[5 rows x 48 columns]"
      ]
     },
     "execution_count": 49,
     "metadata": {},
     "output_type": "execute_result"
    }
   ],
   "source": [
    "merge_data.head()"
   ]
  },
  {
   "cell_type": "code",
   "execution_count": 51,
   "id": "ba048d77",
   "metadata": {},
   "outputs": [],
   "source": [
    "#sort data based on total population in decending order\n",
    "sorted_data = merge_data.sort_values(by=\"Total population\",ascending=False)"
   ]
  },
  {
   "cell_type": "markdown",
   "id": "c8156528",
   "metadata": {},
   "source": [
    "## select top ten countries with the highest total population"
   ]
  },
  {
   "cell_type": "code",
   "execution_count": 52,
   "id": "1bd53ebb",
   "metadata": {},
   "outputs": [],
   "source": [
    "top_ten_countries = sorted_data.head(10)"
   ]
  },
  {
   "cell_type": "code",
   "execution_count": 55,
   "id": "2bd713a1",
   "metadata": {},
   "outputs": [
    {
     "data": {
      "image/png": "[encoded data removed]",
      "text/plain": [
       "<Figure size 864x432 with 1 Axes>"
      ]
     },
     "metadata": {
      "needs_background": "light"
     },
     "output_type": "display_data"
    }
   ],
   "source": [
    "#create a stacked bar plot\n",
    "plt.figure(figsize=(12,6))\n",
    "sns.barplot(x=\"Country Code\",y=\"2022_female\",data=top_ten_countries,color=\"red\",label=\"female population\")\n",
    "sns.barplot(x=\"Country Code\",y=\"2022_male\",data=top_ten_countries,bottom=top_ten_countries[\"2022_female\"],color=\"green\",label=\"malepopulation\")\n",
    "plt.xlabel(\"country\")\n",
    "plt.ylabel(\"population\")\n",
    "plt.legend()\n",
    "plt.xticks(rotation=45,ha=\"right\")\n",
    "plt.show()"
   ]
  },
  {
   "cell_type": "markdown",
   "id": "e9392b68",
   "metadata": {},
   "source": [
    "## bottom 10 countries with male and female population(2022)"
   ]
  },
  {
   "cell_type": "code",
   "execution_count": null,
   "id": "2e97a920",
   "metadata": {},
   "outputs": [],
   "source": [
    "#select the top 10 countries with the highest total population\n",
    "bottom_ten_countries = sorted_data.tail(10)"
   ]
  },
  {
   "cell_type": "code",
   "execution_count": 61,
   "id": "e0c54864",
   "metadata": {},
   "outputs": [],
   "source": [
    "# Get bottom 10 countries based on 2022 population\n",
    "bottom_10_countries = total_population_data.sort_values(\"2022\").head(10).copy()\n",
    "\n",
    "# Assuming you have total female and male population columns like this:\n",
    "bottom_10_countries[\"2022_female\"] = bottom_10_countries[\"2022\"] * 0.49  # or your actual female % value\n",
    "bottom_10_countries[\"2022_male\"] = bottom_10_countries[\"2022\"] * 0.51  # or your actual male % value\n"
   ]
  },
  {
   "cell_type": "code",
   "execution_count": 62,
   "id": "ff642bbe",
   "metadata": {},
   "outputs": [
    {
     "data": {
      "image/png": "[encoded data removed]",
      "text/plain": [
       "<Figure size 864x432 with 1 Axes>"
      ]
     },
     "metadata": {
      "needs_background": "light"
     },
     "output_type": "display_data"
    }
   ],
   "source": [
    "import matplotlib.pyplot as plt\n",
    "import seaborn as sns\n",
    "\n",
    "plt.figure(figsize=(12,6))\n",
    "\n",
    "# Female population\n",
    "sns.barplot(x=\"Country Code\", y=\"2022_female\", data=bottom_10_countries, color=\"red\", label=\"Female Population\")\n",
    "\n",
    "# Male population stacked on top\n",
    "sns.barplot(\n",
    "    x=\"Country Code\",\n",
    "    y=\"2022_male\",\n",
    "    data=bottom_10_countries,\n",
    "    bottom=bottom_10_countries[\"2022_female\"],\n",
    "    color=\"green\",\n",
    "    label=\"Male Population\"\n",
    ")\n",
    "\n",
    "plt.xlabel(\"Country\")\n",
    "plt.ylabel(\"Population\")\n",
    "plt.legend()\n",
    "plt.xticks(rotation=45, ha=\"right\")\n",
    "plt.title(\"Stacked Bar Plot of Female and Male Population (2022) - Bottom 10 Countries\")\n",
    "plt.tight_layout()\n",
    "plt.show()\n"
   ]
  },
  {
   "cell_type": "code",
   "execution_count": null,
   "id": "bbe3d57a",
   "metadata": {},
   "outputs": [],
   "source": []
  }
 ],
 "metadata": {
  "kernelspec": {
   "display_name": "Python 3 (ipykernel)",
   "language": "python",
   "name": "python3"
  },
  "language_info": {
   "codemirror_mode": {
    "name": "ipython",
    "version": 3
   },
   "file_extension": ".py",
   "mimetype": "text/x-python",
   "name": "python",
   "nbconvert_exporter": "python",
   "pygments_lexer": "ipython3",
   "version": "3.9.12"
  }
 },
 "nbformat": 4,
 "nbformat_minor": 5
}
